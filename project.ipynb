{
 "cells": [
  {
   "cell_type": "code",
   "execution_count": 5,
   "metadata": {},
   "outputs": [
    {
     "ename": "TypeError",
     "evalue": "Must provide 'func' or tuples of '(column, aggfunc).",
     "output_type": "error",
     "traceback": [
      "\u001b[0;31m---------------------------------------------------------------------------\u001b[0m",
      "\u001b[0;31mTypeError\u001b[0m                                 Traceback (most recent call last)",
      "Cell \u001b[0;32mIn[5], line 8\u001b[0m\n\u001b[1;32m      5\u001b[0m data \u001b[39m=\u001b[39m pd\u001b[39m.\u001b[39mread_csv(\u001b[39m'\u001b[39m\u001b[39m./data.csv\u001b[39m\u001b[39m'\u001b[39m)\n\u001b[1;32m      6\u001b[0m data\u001b[39m.\u001b[39mdescribe()\n\u001b[0;32m----> 8\u001b[0m age_group \u001b[39m=\u001b[39m data\u001b[39m.\u001b[39;49mgroupby(\u001b[39m'\u001b[39;49m\u001b[39mAge\u001b[39;49m\u001b[39m'\u001b[39;49m)\u001b[39m.\u001b[39;49magg(mean\u001b[39m=\u001b[39;49m{\u001b[39m'\u001b[39;49m\u001b[39mAnnual_Income\u001b[39;49m\u001b[39m'\u001b[39;49m: [\u001b[39m'\u001b[39;49m\u001b[39mmean\u001b[39;49m\u001b[39m'\u001b[39;49m]})\n\u001b[1;32m      9\u001b[0m \u001b[39mprint\u001b[39m(age_group)\n\u001b[1;32m     10\u001b[0m sns\u001b[39m.\u001b[39mbarplot(data\u001b[39m=\u001b[39mage_group, x\u001b[39m=\u001b[39m\u001b[39m'\u001b[39m\u001b[39mAge\u001b[39m\u001b[39m'\u001b[39m, y\u001b[39m=\u001b[39m\u001b[39m'\u001b[39m\u001b[39mmean\u001b[39m\u001b[39m'\u001b[39m, color\u001b[39m=\u001b[39m\u001b[39m'\u001b[39m\u001b[39mskyblue\u001b[39m\u001b[39m'\u001b[39m)\n",
      "File \u001b[0;32m/tmp/data_analytics_package/.venv/lib/python3.10/site-packages/pandas/core/groupby/generic.py:1435\u001b[0m, in \u001b[0;36mDataFrameGroupBy.aggregate\u001b[0;34m(self, func, engine, engine_kwargs, *args, **kwargs)\u001b[0m\n\u001b[1;32m   1433\u001b[0m \u001b[39m@doc\u001b[39m(_agg_template_frame, examples\u001b[39m=\u001b[39m_agg_examples_doc, klass\u001b[39m=\u001b[39m\u001b[39m\"\u001b[39m\u001b[39mDataFrame\u001b[39m\u001b[39m\"\u001b[39m)\n\u001b[1;32m   1434\u001b[0m \u001b[39mdef\u001b[39;00m \u001b[39maggregate\u001b[39m(\u001b[39mself\u001b[39m, func\u001b[39m=\u001b[39m\u001b[39mNone\u001b[39;00m, \u001b[39m*\u001b[39margs, engine\u001b[39m=\u001b[39m\u001b[39mNone\u001b[39;00m, engine_kwargs\u001b[39m=\u001b[39m\u001b[39mNone\u001b[39;00m, \u001b[39m*\u001b[39m\u001b[39m*\u001b[39mkwargs):\n\u001b[0;32m-> 1435\u001b[0m     relabeling, func, columns, order \u001b[39m=\u001b[39m reconstruct_func(func, \u001b[39m*\u001b[39;49m\u001b[39m*\u001b[39;49mkwargs)\n\u001b[1;32m   1436\u001b[0m     func \u001b[39m=\u001b[39m maybe_mangle_lambdas(func)\n\u001b[1;32m   1438\u001b[0m     \u001b[39mif\u001b[39;00m maybe_use_numba(engine):\n\u001b[1;32m   1439\u001b[0m         \u001b[39m# Not all agg functions support numba, only propagate numba kwargs\u001b[39;00m\n\u001b[1;32m   1440\u001b[0m         \u001b[39m# if user asks for numba\u001b[39;00m\n",
      "File \u001b[0;32m/tmp/data_analytics_package/.venv/lib/python3.10/site-packages/pandas/core/apply.py:1478\u001b[0m, in \u001b[0;36mreconstruct_func\u001b[0;34m(func, **kwargs)\u001b[0m\n\u001b[1;32m   1472\u001b[0m         \u001b[39mraise\u001b[39;00m SpecificationError(\n\u001b[1;32m   1473\u001b[0m             \u001b[39m\"\u001b[39m\u001b[39mFunction names must be unique if there is no new column names \u001b[39m\u001b[39m\"\u001b[39m\n\u001b[1;32m   1474\u001b[0m             \u001b[39m\"\u001b[39m\u001b[39massigned\u001b[39m\u001b[39m\"\u001b[39m\n\u001b[1;32m   1475\u001b[0m         )\n\u001b[1;32m   1476\u001b[0m     \u001b[39mif\u001b[39;00m func \u001b[39mis\u001b[39;00m \u001b[39mNone\u001b[39;00m:\n\u001b[1;32m   1477\u001b[0m         \u001b[39m# nicer error message\u001b[39;00m\n\u001b[0;32m-> 1478\u001b[0m         \u001b[39mraise\u001b[39;00m \u001b[39mTypeError\u001b[39;00m(\u001b[39m\"\u001b[39m\u001b[39mMust provide \u001b[39m\u001b[39m'\u001b[39m\u001b[39mfunc\u001b[39m\u001b[39m'\u001b[39m\u001b[39m or tuples of \u001b[39m\u001b[39m'\u001b[39m\u001b[39m(column, aggfunc).\u001b[39m\u001b[39m\"\u001b[39m)\n\u001b[1;32m   1480\u001b[0m \u001b[39mif\u001b[39;00m relabeling:\n\u001b[1;32m   1481\u001b[0m     func, columns, order \u001b[39m=\u001b[39m normalize_keyword_aggregation(kwargs)\n",
      "\u001b[0;31mTypeError\u001b[0m: Must provide 'func' or tuples of '(column, aggfunc)."
     ]
    }
   ],
   "source": [
    "import pandas as pd \n",
    "import matplotlib.pyplot as plt\n",
    "import seaborn as sns\n",
    "\n",
    "data = pd.read_csv('./data.csv')\n",
    "data.describe()\n",
    "\n",
    "age_group = data.groupby('Age').agg(mean=pd.NamedAgg(column='Annual_Income', aggfunc='mean'))\n",
    "print(age_group)\n",
    "sns.barplot(data=age_group, x='Age', y='mean', color='skyblue')\n",
    "plt.title('Total Weekly Registrations')\n",
    "plt.tight_layout()\n",
    "plt.savefig(f'./charts/total_registrations.png')\n"
   ]
  }
 ],
 "metadata": {
  "kernelspec": {
   "display_name": "Python 3",
   "language": "python",
   "name": "python3"
  },
  "language_info": {
   "codemirror_mode": {
    "name": "ipython",
    "version": 3
   },
   "file_extension": ".py",
   "mimetype": "text/x-python",
   "name": "python",
   "nbconvert_exporter": "python",
   "pygments_lexer": "ipython3",
   "version": "3.10.12"
  },
  "orig_nbformat": 4
 },
 "nbformat": 4,
 "nbformat_minor": 2
}
